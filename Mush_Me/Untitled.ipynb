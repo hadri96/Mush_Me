{
 "cells": [
  {
   "cell_type": "code",
   "execution_count": 2,
   "id": "b2a86e5f",
   "metadata": {},
   "outputs": [],
   "source": [
    "%load_ext autoreload\n",
    "%autoreload 2\n",
    "\n",
    "from utils import log_progress\n",
    "from metadata import Data, JPEG, move_picture_to_species, is_JPEG"
   ]
  },
  {
   "cell_type": "code",
   "execution_count": 6,
   "id": "99bbaf74",
   "metadata": {},
   "outputs": [
    {
     "name": "stderr",
     "output_type": "stream",
     "text": [
      "/Users/camille/code/hadri96/Mush_Me/Mush_Me/metadata.py:115: UserWarning: Boolean Series key will be reindexed to match DataFrame index.\n",
      "  data_filtered = data[data['kingdom']=='Fungi']\\\n"
     ]
    }
   ],
   "source": [
    "file = Data('mini_train')\n",
    "\n",
    "data = file.directory_by_species(False)"
   ]
  },
  {
   "cell_type": "code",
   "execution_count": null,
   "id": "b97f82ab",
   "metadata": {},
   "outputs": [],
   "source": [
    "/Users/camille/code/hadri96/Mush_Me/Mush_Me/data/metadata/01_initial_metadata/DanishFungi2020_mini-test_metadata.csv\n",
    "/Users/camille/code/hadri96/Mush_Me/Mush_Me/data/metadata/01_initial_metadata"
   ]
  }
 ],
 "metadata": {
  "kernelspec": {
   "display_name": "Python 3",
   "language": "python",
   "name": "python3"
  },
  "language_info": {
   "codemirror_mode": {
    "name": "ipython",
    "version": 3
   },
   "file_extension": ".py",
   "mimetype": "text/x-python",
   "name": "python",
   "nbconvert_exporter": "python",
   "pygments_lexer": "ipython3",
   "version": "3.8.6"
  },
  "toc": {
   "base_numbering": 1,
   "nav_menu": {},
   "number_sections": true,
   "sideBar": true,
   "skip_h1_title": false,
   "title_cell": "Table of Contents",
   "title_sidebar": "Contents",
   "toc_cell": false,
   "toc_position": {},
   "toc_section_display": true,
   "toc_window_display": false
  }
 },
 "nbformat": 4,
 "nbformat_minor": 5
}
