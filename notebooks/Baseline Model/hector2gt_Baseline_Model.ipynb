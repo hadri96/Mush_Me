{
 "cells": [
  {
   "cell_type": "markdown",
   "id": "78707eb3",
   "metadata": {},
   "source": [
    "# Baseline Model"
   ]
  },
  {
   "cell_type": "code",
   "execution_count": 2,
   "id": "c68be3ef",
   "metadata": {},
   "outputs": [],
   "source": [
    "import pandas as pd"
   ]
  },
  {
   "cell_type": "code",
   "execution_count": 4,
   "id": "0581b199",
   "metadata": {},
   "outputs": [
    {
     "name": "stdout",
     "output_type": "stream",
     "text": [
      "/home/hector2gt/code/hadri96/Mush_Me/notebooks/Baseline Model\r\n"
     ]
    }
   ],
   "source": [
    "!pwd"
   ]
  },
  {
   "cell_type": "markdown",
   "id": "6316ddfd",
   "metadata": {},
   "source": [
    "## Import Data"
   ]
  },
  {
   "cell_type": "code",
   "execution_count": 10,
   "id": "a4592869",
   "metadata": {},
   "outputs": [],
   "source": [
    "meta_train_mini_df = pd.read_csv(\"../../Mush_Me/data/metadata/cleaned_metadata/metadata_mini_train.csv\")\n",
    "meta_test_mini_df = pd.read_csv(\"../../Mush_Me/data/metadata/cleaned_metadata/metadata_mini_test.csv\")"
   ]
  },
  {
   "cell_type": "code",
   "execution_count": 11,
   "id": "b65bc159",
   "metadata": {},
   "outputs": [],
   "source": [
    "meta_train_df = pd.read_csv(\"../../Mush_Me/data/metadata/cleaned_metadata/metadata_train.csv\")\n",
    "meta_test_df = pd.read_csv(\"../../Mush_Me/data/metadata/cleaned_metadata/metadata_test.csv\")"
   ]
  },
  {
   "cell_type": "code",
   "execution_count": 14,
   "id": "fc67ae1c",
   "metadata": {},
   "outputs": [
    {
     "data": {
      "text/plain": [
       "Index(['Unnamed: 0', 'level_0', 'index', 'date', 'year', 'month', 'day',\n",
       "       'countryCode', 'taxonID', 'scientificName', 'phylum', 'class', 'order',\n",
       "       'family', 'genus', 'specificEpithet', 'species', 'ImageUniqueID',\n",
       "       'Substrate', 'Latitude', 'Longitude', 'CoorUncert', 'Habitat',\n",
       "       'image_path', 'class_id', 'genus_id', 'family_id'],\n",
       "      dtype='object')"
      ]
     },
     "execution_count": 14,
     "metadata": {},
     "output_type": "execute_result"
    }
   ],
   "source": [
    "meta_test_mini_df.columns"
   ]
  },
  {
   "cell_type": "markdown",
   "id": "6368fefb",
   "metadata": {},
   "source": [
    "## Baseline Model for the mini Dataset"
   ]
  },
  {
   "cell_type": "code",
   "execution_count": 15,
   "id": "0ff20a8b",
   "metadata": {},
   "outputs": [],
   "source": [
    "# merge train and test dataset\n",
    "meta_mini_df = pd.concat([meta_train_mini_df, meta_test_mini_df])"
   ]
  },
  {
   "cell_type": "code",
   "execution_count": 18,
   "id": "ff99a752",
   "metadata": {},
   "outputs": [
    {
     "data": {
      "text/plain": [
       "34701"
      ]
     },
     "execution_count": 18,
     "metadata": {},
     "output_type": "execute_result"
    }
   ],
   "source": [
    "len(meta_mini_df)"
   ]
  },
  {
   "cell_type": "code",
   "execution_count": 19,
   "id": "58c97466",
   "metadata": {},
   "outputs": [
    {
     "data": {
      "text/plain": [
       "Mycena galericulata    1188\n",
       "Clitocybe nebularis    1069\n",
       "Amanita muscaria        878\n",
       "Boletus edulis          808\n",
       "Amanita rubescens       746\n",
       "                       ... \n",
       "Mycena vulgaris          36\n",
       "Russula laeta            35\n",
       "Agaricus bisporus        34\n",
       "Clitocybe diatreta       33\n",
       "Russula insignis         31\n",
       "Name: species, Length: 179, dtype: int64"
      ]
     },
     "execution_count": 19,
     "metadata": {},
     "output_type": "execute_result"
    }
   ],
   "source": [
    "meta_mini_df['species'].value_counts()"
   ]
  },
  {
   "cell_type": "code",
   "execution_count": 20,
   "id": "5712747f",
   "metadata": {},
   "outputs": [
    {
     "data": {
      "text/plain": [
       "Mycena galericulata    0.034235\n",
       "Clitocybe nebularis    0.030806\n",
       "Amanita muscaria       0.025302\n",
       "Boletus edulis         0.023285\n",
       "Amanita rubescens      0.021498\n",
       "                         ...   \n",
       "Mycena vulgaris        0.001037\n",
       "Russula laeta          0.001009\n",
       "Agaricus bisporus      0.000980\n",
       "Clitocybe diatreta     0.000951\n",
       "Russula insignis       0.000893\n",
       "Name: species, Length: 179, dtype: float64"
      ]
     },
     "execution_count": 20,
     "metadata": {},
     "output_type": "execute_result"
    }
   ],
   "source": [
    "meta_mini_df['species'].value_counts()/len(meta_mini_df)"
   ]
  },
  {
   "cell_type": "markdown",
   "id": "d2d688a1",
   "metadata": {},
   "source": [
    "## Baseline Model for large Dataset"
   ]
  },
  {
   "cell_type": "code",
   "execution_count": 21,
   "id": "dbd36c75",
   "metadata": {},
   "outputs": [],
   "source": [
    "# merge train and test dataset\n",
    "meta_df = pd.concat([meta_train_df, meta_test_df])"
   ]
  },
  {
   "cell_type": "code",
   "execution_count": 22,
   "id": "b1f5d7ce",
   "metadata": {},
   "outputs": [
    {
     "data": {
      "text/plain": [
       "281557"
      ]
     },
     "execution_count": 22,
     "metadata": {},
     "output_type": "execute_result"
    }
   ],
   "source": [
    "len(meta_df)"
   ]
  },
  {
   "cell_type": "code",
   "execution_count": 24,
   "id": "d31acb0c",
   "metadata": {},
   "outputs": [
    {
     "data": {
      "text/plain": [
       "Trametes versicolor          1846\n",
       "Fomitopsis pinicola          1677\n",
       "Hypholoma fasciculare        1543\n",
       "Pluteus cervinus             1297\n",
       "Bjerkandera adusta           1276\n",
       "                             ... \n",
       "Galerina ampullaceocystis      27\n",
       "Brunneoporus kuzyanus          27\n",
       "Connopus acervatus             26\n",
       "Verpa bohemica                 26\n",
       "Morchella conica               21\n",
       "Name: species, Length: 1547, dtype: int64"
      ]
     },
     "execution_count": 24,
     "metadata": {},
     "output_type": "execute_result"
    }
   ],
   "source": [
    "meta_df['species'].value_counts()"
   ]
  },
  {
   "cell_type": "code",
   "execution_count": 25,
   "id": "10779cdf",
   "metadata": {},
   "outputs": [
    {
     "data": {
      "text/plain": [
       "Trametes versicolor          0.006556\n",
       "Fomitopsis pinicola          0.005956\n",
       "Hypholoma fasciculare        0.005480\n",
       "Pluteus cervinus             0.004607\n",
       "Bjerkandera adusta           0.004532\n",
       "                               ...   \n",
       "Galerina ampullaceocystis    0.000096\n",
       "Brunneoporus kuzyanus        0.000096\n",
       "Connopus acervatus           0.000092\n",
       "Verpa bohemica               0.000092\n",
       "Morchella conica             0.000075\n",
       "Name: species, Length: 1547, dtype: float64"
      ]
     },
     "execution_count": 25,
     "metadata": {},
     "output_type": "execute_result"
    }
   ],
   "source": [
    "meta_df['species'].value_counts()/len(meta_df)"
   ]
  },
  {
   "cell_type": "markdown",
   "id": "0506ceeb",
   "metadata": {},
   "source": [
    "# Check for equal destribution"
   ]
  },
  {
   "cell_type": "markdown",
   "id": "451f0902",
   "metadata": {},
   "source": [
    "## Mini Dataset"
   ]
  },
  {
   "cell_type": "code",
   "execution_count": 26,
   "id": "ffeb8f4d",
   "metadata": {},
   "outputs": [
    {
     "data": {
      "text/plain": [
       "Mycena galericulata    1070\n",
       "Clitocybe nebularis     963\n",
       "Amanita muscaria        785\n",
       "Boletus edulis          723\n",
       "Amanita rubescens       671\n",
       "                       ... \n",
       "Russula laeta            32\n",
       "Mycena rosella           32\n",
       "Agaricus bisporus        30\n",
       "Clitocybe diatreta       29\n",
       "Russula insignis         28\n",
       "Name: species, Length: 179, dtype: int64"
      ]
     },
     "execution_count": 26,
     "metadata": {},
     "output_type": "execute_result"
    }
   ],
   "source": [
    "meta_train_mini_df['species'].value_counts()"
   ]
  },
  {
   "cell_type": "code",
   "execution_count": 27,
   "id": "a63b2765",
   "metadata": {},
   "outputs": [
    {
     "data": {
      "text/plain": [
       "Mycena galericulata         118\n",
       "Clitocybe nebularis         106\n",
       "Amanita muscaria             93\n",
       "Boletus edulis               85\n",
       "Amanita rubescens            75\n",
       "                           ... \n",
       "Russula laeta                 3\n",
       "Amanita lividopallescens      3\n",
       "Russula aurea                 3\n",
       "Russula insignis              3\n",
       "Mycena luteovariegata         3\n",
       "Name: species, Length: 179, dtype: int64"
      ]
     },
     "execution_count": 27,
     "metadata": {},
     "output_type": "execute_result"
    }
   ],
   "source": [
    "meta_test_mini_df['species'].value_counts()"
   ]
  },
  {
   "cell_type": "markdown",
   "id": "2f030114",
   "metadata": {},
   "source": [
    "## Large Dataset"
   ]
  },
  {
   "cell_type": "code",
   "execution_count": 28,
   "id": "48a983ab",
   "metadata": {},
   "outputs": [
    {
     "data": {
      "text/plain": [
       "Trametes versicolor      1658\n",
       "Fomitopsis pinicola      1507\n",
       "Hypholoma fasciculare    1388\n",
       "Pluteus cervinus         1164\n",
       "Bjerkandera adusta       1152\n",
       "                         ... \n",
       "Phloeomana clavata         24\n",
       "Brunneoporus kuzyanus      24\n",
       "Connopus acervatus         23\n",
       "Verpa bohemica             23\n",
       "Morchella conica           20\n",
       "Name: species, Length: 1547, dtype: int64"
      ]
     },
     "execution_count": 28,
     "metadata": {},
     "output_type": "execute_result"
    }
   ],
   "source": [
    "meta_train_df['species'].value_counts()"
   ]
  },
  {
   "cell_type": "code",
   "execution_count": 29,
   "id": "a584fc80",
   "metadata": {},
   "outputs": [
    {
     "data": {
      "text/plain": [
       "Trametes versicolor          188\n",
       "Fomitopsis pinicola          170\n",
       "Hypholoma fasciculare        155\n",
       "Pluteus cervinus             133\n",
       "Fomes fomentarius            127\n",
       "                            ... \n",
       "Oxyporus obducens              2\n",
       "Tricholomopsis decora          2\n",
       "Roridomyces roridus            2\n",
       "Galerina ampullaceocystis      2\n",
       "Morchella conica               1\n",
       "Name: species, Length: 1547, dtype: int64"
      ]
     },
     "execution_count": 29,
     "metadata": {},
     "output_type": "execute_result"
    }
   ],
   "source": [
    "meta_test_df['species'].value_counts()"
   ]
  },
  {
   "cell_type": "code",
   "execution_count": null,
   "id": "999ad373",
   "metadata": {},
   "outputs": [],
   "source": []
  }
 ],
 "metadata": {
  "kernelspec": {
   "display_name": "Python 3",
   "language": "python",
   "name": "python3"
  },
  "language_info": {
   "codemirror_mode": {
    "name": "ipython",
    "version": 3
   },
   "file_extension": ".py",
   "mimetype": "text/x-python",
   "name": "python",
   "nbconvert_exporter": "python",
   "pygments_lexer": "ipython3",
   "version": "3.8.6"
  },
  "toc": {
   "base_numbering": 1,
   "nav_menu": {},
   "number_sections": true,
   "sideBar": true,
   "skip_h1_title": false,
   "title_cell": "Table of Contents",
   "title_sidebar": "Contents",
   "toc_cell": false,
   "toc_position": {},
   "toc_section_display": true,
   "toc_window_display": false
  }
 },
 "nbformat": 4,
 "nbformat_minor": 5
}
