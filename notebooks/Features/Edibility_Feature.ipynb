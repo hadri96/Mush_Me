{
 "cells": [
  {
   "cell_type": "code",
   "execution_count": 3,
   "id": "d91becd7",
   "metadata": {},
   "outputs": [],
   "source": [
    "import pandas as pd"
   ]
  },
  {
   "cell_type": "code",
   "execution_count": 4,
   "id": "f43fd2fb",
   "metadata": {},
   "outputs": [
    {
     "data": {
      "text/plain": [
       "'/Users/charlottedebelay/code/hadri96/Mush_Me'"
      ]
     },
     "execution_count": 4,
     "metadata": {},
     "output_type": "execute_result"
    }
   ],
   "source": [
    "pwd"
   ]
  },
  {
   "cell_type": "code",
   "execution_count": 107,
   "id": "3b19d539",
   "metadata": {
    "scrolled": true
   },
   "outputs": [
    {
     "data": {
      "text/html": [
       "<div>\n",
       "<style scoped>\n",
       "    .dataframe tbody tr th:only-of-type {\n",
       "        vertical-align: middle;\n",
       "    }\n",
       "\n",
       "    .dataframe tbody tr th {\n",
       "        vertical-align: top;\n",
       "    }\n",
       "\n",
       "    .dataframe thead th {\n",
       "        text-align: right;\n",
       "    }\n",
       "</style>\n",
       "<table border=\"1\" class=\"dataframe\">\n",
       "  <thead>\n",
       "    <tr style=\"text-align: right;\">\n",
       "      <th></th>\n",
       "      <th>Wert</th>\n",
       "      <th>Vorkommen</th>\n",
       "    </tr>\n",
       "    <tr>\n",
       "      <th>Name</th>\n",
       "      <th></th>\n",
       "      <th></th>\n",
       "    </tr>\n",
       "  </thead>\n",
       "  <tbody>\n",
       "    <tr>\n",
       "      <th>Abortiporus biennis</th>\n",
       "      <td>kein Speisepilz</td>\n",
       "      <td>selten</td>\n",
       "    </tr>\n",
       "    <tr>\n",
       "      <th>Acrospermum compressum</th>\n",
       "      <td>kein Speisepilz</td>\n",
       "      <td>verbreitet bis häufig</td>\n",
       "    </tr>\n",
       "    <tr>\n",
       "      <th>Adelphella babingtonii</th>\n",
       "      <td>kein Speisepilz</td>\n",
       "      <td>verbreitet bis häufig</td>\n",
       "    </tr>\n",
       "    <tr>\n",
       "      <th>Agaricus aestivalis</th>\n",
       "      <td>essbar</td>\n",
       "      <td>selten</td>\n",
       "    </tr>\n",
       "    <tr>\n",
       "      <th>Agaricus altipes</th>\n",
       "      <td>kein Speisepilz</td>\n",
       "      <td>selten</td>\n",
       "    </tr>\n",
       "  </tbody>\n",
       "</table>\n",
       "</div>"
      ],
      "text/plain": [
       "                                   Wert              Vorkommen\n",
       "Name                                                          \n",
       "Abortiporus biennis     kein Speisepilz                 selten\n",
       "Acrospermum compressum  kein Speisepilz  verbreitet bis häufig\n",
       "Adelphella babingtonii  kein Speisepilz  verbreitet bis häufig\n",
       "Agaricus aestivalis              essbar                 selten\n",
       "Agaricus altipes        kein Speisepilz                 selten"
      ]
     },
     "execution_count": 107,
     "metadata": {},
     "output_type": "execute_result"
    }
   ],
   "source": [
    "edibility_df = pd.read_csv('Mush_Me/data/Pilze_Speisewert.csv',  sep=';', index_col=0)\n",
    "edibility_df.drop(columns='NameDeutsch', inplace=True)\n",
    "edibility_df.head()"
   ]
  },
  {
   "cell_type": "code",
   "execution_count": 108,
   "id": "a344f236",
   "metadata": {
    "scrolled": true
   },
   "outputs": [],
   "source": [
    "edibility_df = edibility_df.reset_index()"
   ]
  },
  {
   "cell_type": "code",
   "execution_count": 109,
   "id": "b0ce2770",
   "metadata": {},
   "outputs": [],
   "source": [
    "edibility_df = edibility_df.rename(columns={\"Wert\": \"Edibility\", \"Vorkommen\": \"Availability\"})"
   ]
  },
  {
   "cell_type": "code",
   "execution_count": 110,
   "id": "c0c3857f",
   "metadata": {},
   "outputs": [],
   "source": [
    "edibility_df['Name'] = edibility_df['Name'].map(lambda x: x.lower().replace(' ', '_'))"
   ]
  },
  {
   "cell_type": "code",
   "execution_count": 111,
   "id": "86999a65",
   "metadata": {},
   "outputs": [
    {
     "data": {
      "text/html": [
       "<div>\n",
       "<style scoped>\n",
       "    .dataframe tbody tr th:only-of-type {\n",
       "        vertical-align: middle;\n",
       "    }\n",
       "\n",
       "    .dataframe tbody tr th {\n",
       "        vertical-align: top;\n",
       "    }\n",
       "\n",
       "    .dataframe thead th {\n",
       "        text-align: right;\n",
       "    }\n",
       "</style>\n",
       "<table border=\"1\" class=\"dataframe\">\n",
       "  <thead>\n",
       "    <tr style=\"text-align: right;\">\n",
       "      <th></th>\n",
       "      <th>Name</th>\n",
       "      <th>Edibility</th>\n",
       "      <th>Availability</th>\n",
       "    </tr>\n",
       "  </thead>\n",
       "  <tbody>\n",
       "    <tr>\n",
       "      <th>0</th>\n",
       "      <td>abortiporus_biennis</td>\n",
       "      <td>kein Speisepilz</td>\n",
       "      <td>selten</td>\n",
       "    </tr>\n",
       "    <tr>\n",
       "      <th>1</th>\n",
       "      <td>acrospermum_compressum</td>\n",
       "      <td>kein Speisepilz</td>\n",
       "      <td>verbreitet bis häufig</td>\n",
       "    </tr>\n",
       "    <tr>\n",
       "      <th>2</th>\n",
       "      <td>adelphella_babingtonii</td>\n",
       "      <td>kein Speisepilz</td>\n",
       "      <td>verbreitet bis häufig</td>\n",
       "    </tr>\n",
       "    <tr>\n",
       "      <th>3</th>\n",
       "      <td>agaricus_aestivalis</td>\n",
       "      <td>essbar</td>\n",
       "      <td>selten</td>\n",
       "    </tr>\n",
       "    <tr>\n",
       "      <th>4</th>\n",
       "      <td>agaricus_altipes</td>\n",
       "      <td>kein Speisepilz</td>\n",
       "      <td>selten</td>\n",
       "    </tr>\n",
       "  </tbody>\n",
       "</table>\n",
       "</div>"
      ],
      "text/plain": [
       "                     Name        Edibility           Availability\n",
       "0     abortiporus_biennis  kein Speisepilz                 selten\n",
       "1  acrospermum_compressum  kein Speisepilz  verbreitet bis häufig\n",
       "2  adelphella_babingtonii  kein Speisepilz  verbreitet bis häufig\n",
       "3     agaricus_aestivalis           essbar                 selten\n",
       "4        agaricus_altipes  kein Speisepilz                 selten"
      ]
     },
     "execution_count": 111,
     "metadata": {},
     "output_type": "execute_result"
    }
   ],
   "source": [
    "edibility_df.head()"
   ]
  },
  {
   "cell_type": "code",
   "execution_count": 112,
   "id": "4b3b072f",
   "metadata": {},
   "outputs": [
    {
     "data": {
      "text/plain": [
       "kein Speisepilz                         2500\n",
       "essbar                                   283\n",
       "giftig                                   209\n",
       "Speisepilz                                22\n",
       "giftverdächtig                            14\n",
       "Kein Speisepilz                            8\n",
       "jung essbar                                7\n",
       "bedingt essbar                             7\n",
       "als Gewürzpilz verwendbar                  3\n",
       "tödlich giftig                             2\n",
       "sehr giftig                                2\n",
       "mit Alkohol giftig                         1\n",
       "kein Speisepilz, leicht giftig             1\n",
       "kein Spiesepilz                            1\n",
       "Gewürzpilz                                 1\n",
       "leicht giftig                              1\n",
       "kein Speisepilz acha                       1\n",
       "giftig, kleine Mengen als Gewürzpilz       1\n",
       "in Speisepilz                              1\n",
       "kein Speisepilz, evtl. giftig              1\n",
       "essbar (Gewürz)                            1\n",
       "Name: Edibility, dtype: int64"
      ]
     },
     "execution_count": 112,
     "metadata": {},
     "output_type": "execute_result"
    }
   ],
   "source": [
    "edibility_df['Edibility'].value_counts()"
   ]
  },
  {
   "cell_type": "code",
   "execution_count": 113,
   "id": "e6e1defe",
   "metadata": {},
   "outputs": [],
   "source": [
    "edibility_df['Edibility'] = edibility_df['Edibility'].map({'kein Speisepilz':'Non Edible',\n",
    "                                                 'essbar':'Edible',\n",
    "                                                 'giftig':'Poisonous',\n",
    "                                                 'Speisepilz':'Edible',\n",
    "                                                 'giftverdächtig':'Poisonous',\n",
    "                                                 'Kein Speisepilz':'Non Edible',\n",
    "                                                 'jung essbar':'Edible',\n",
    "                                                 'bedingt essbar':'Non Edible',\n",
    "                                                 'als Gewürzpilz verwendbar':'Non Edible',\n",
    "                                                 'tödlich giftig':'Poisonous',\n",
    "                                                 'sehr giftig':'Poisonous',\n",
    "                                                 'mit Alkohol giftig':'Poisonous',\n",
    "                                                 'kein Speisepilz, leicht giftig':'Poisonous',\n",
    "                                                 'kein Spiesepilz':'Non Edible',\n",
    "                                                 'Gewürzpilz':'Non Edible',\n",
    "                                                 'leicht giftig':'Poisonous',\n",
    "                                                 'kein Speisepilz acha':'Non Edible',\n",
    "                                                 'giftig, kleine Mengen als Gewürzpilz':'Poisonous',\n",
    "                                                 'in Speisepilz':'Non Edible',\n",
    "                                                 'kein Speisepilz, evtl. giftig':'Poisonous',\n",
    "                                                 'essbar (Gewürz)':'Non Edible'})"
   ]
  },
  {
   "cell_type": "code",
   "execution_count": 114,
   "id": "ee865c81",
   "metadata": {},
   "outputs": [
    {
     "data": {
      "text/plain": [
       "selten                   1794\n",
       "verbreitet bis häufig    1273\n",
       "Name: Availability, dtype: int64"
      ]
     },
     "execution_count": 114,
     "metadata": {},
     "output_type": "execute_result"
    }
   ],
   "source": [
    "edibility_df['Availability'].value_counts()"
   ]
  },
  {
   "cell_type": "code",
   "execution_count": 115,
   "id": "14995476",
   "metadata": {},
   "outputs": [],
   "source": [
    "edibility_df['Availability'] = edibility_df['Availability'].map({'selten':'Rare',\n",
    "                                                           'verbreitet bis häufig':'Frequent'})"
   ]
  },
  {
   "cell_type": "code",
   "execution_count": 116,
   "id": "fa24d00f",
   "metadata": {},
   "outputs": [
    {
     "data": {
      "text/html": [
       "<div>\n",
       "<style scoped>\n",
       "    .dataframe tbody tr th:only-of-type {\n",
       "        vertical-align: middle;\n",
       "    }\n",
       "\n",
       "    .dataframe tbody tr th {\n",
       "        vertical-align: top;\n",
       "    }\n",
       "\n",
       "    .dataframe thead th {\n",
       "        text-align: right;\n",
       "    }\n",
       "</style>\n",
       "<table border=\"1\" class=\"dataframe\">\n",
       "  <thead>\n",
       "    <tr style=\"text-align: right;\">\n",
       "      <th></th>\n",
       "      <th>Name</th>\n",
       "      <th>Edibility</th>\n",
       "      <th>Availability</th>\n",
       "    </tr>\n",
       "  </thead>\n",
       "  <tbody>\n",
       "    <tr>\n",
       "      <th>0</th>\n",
       "      <td>abortiporus_biennis</td>\n",
       "      <td>Non Edible</td>\n",
       "      <td>Rare</td>\n",
       "    </tr>\n",
       "    <tr>\n",
       "      <th>1</th>\n",
       "      <td>acrospermum_compressum</td>\n",
       "      <td>Non Edible</td>\n",
       "      <td>Frequent</td>\n",
       "    </tr>\n",
       "    <tr>\n",
       "      <th>2</th>\n",
       "      <td>adelphella_babingtonii</td>\n",
       "      <td>Non Edible</td>\n",
       "      <td>Frequent</td>\n",
       "    </tr>\n",
       "    <tr>\n",
       "      <th>3</th>\n",
       "      <td>agaricus_aestivalis</td>\n",
       "      <td>Edible</td>\n",
       "      <td>Rare</td>\n",
       "    </tr>\n",
       "    <tr>\n",
       "      <th>4</th>\n",
       "      <td>agaricus_altipes</td>\n",
       "      <td>Non Edible</td>\n",
       "      <td>Rare</td>\n",
       "    </tr>\n",
       "  </tbody>\n",
       "</table>\n",
       "</div>"
      ],
      "text/plain": [
       "                     Name   Edibility Availability\n",
       "0     abortiporus_biennis  Non Edible         Rare\n",
       "1  acrospermum_compressum  Non Edible     Frequent\n",
       "2  adelphella_babingtonii  Non Edible     Frequent\n",
       "3     agaricus_aestivalis      Edible         Rare\n",
       "4        agaricus_altipes  Non Edible         Rare"
      ]
     },
     "execution_count": 116,
     "metadata": {},
     "output_type": "execute_result"
    }
   ],
   "source": [
    "edibility_df.head()"
   ]
  },
  {
   "cell_type": "code",
   "execution_count": null,
   "id": "4b3111ca",
   "metadata": {},
   "outputs": [],
   "source": []
  }
 ],
 "metadata": {
  "kernelspec": {
   "display_name": "Python 3",
   "language": "python",
   "name": "python3"
  },
  "language_info": {
   "codemirror_mode": {
    "name": "ipython",
    "version": 3
   },
   "file_extension": ".py",
   "mimetype": "text/x-python",
   "name": "python",
   "nbconvert_exporter": "python",
   "pygments_lexer": "ipython3",
   "version": "3.8.6"
  },
  "toc": {
   "base_numbering": 1,
   "nav_menu": {},
   "number_sections": true,
   "sideBar": true,
   "skip_h1_title": false,
   "title_cell": "Table of Contents",
   "title_sidebar": "Contents",
   "toc_cell": false,
   "toc_position": {},
   "toc_section_display": true,
   "toc_window_display": false
  }
 },
 "nbformat": 4,
 "nbformat_minor": 5
}
