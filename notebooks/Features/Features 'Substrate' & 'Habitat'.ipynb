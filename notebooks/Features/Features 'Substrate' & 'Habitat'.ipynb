{
 "cells": [
  {
   "cell_type": "markdown",
   "id": "c5a7cb90",
   "metadata": {},
   "source": [
    "## Imports"
   ]
  },
  {
   "cell_type": "code",
   "execution_count": 2,
   "id": "f3184582",
   "metadata": {},
   "outputs": [],
   "source": [
    "import numpy as np\n",
    "import matplotlib.pyplot as plt\n",
    "import pandas as pd"
   ]
  },
  {
   "cell_type": "markdown",
   "id": "d26a88d7",
   "metadata": {},
   "source": [
    "## Cleaned Metadata Exploration"
   ]
  },
  {
   "cell_type": "code",
   "execution_count": 76,
   "id": "00e3f0cd",
   "metadata": {},
   "outputs": [
    {
     "data": {
      "text/html": [
       "<div>\n",
       "<style scoped>\n",
       "    .dataframe tbody tr th:only-of-type {\n",
       "        vertical-align: middle;\n",
       "    }\n",
       "\n",
       "    .dataframe tbody tr th {\n",
       "        vertical-align: top;\n",
       "    }\n",
       "\n",
       "    .dataframe thead th {\n",
       "        text-align: right;\n",
       "    }\n",
       "</style>\n",
       "<table border=\"1\" class=\"dataframe\">\n",
       "  <thead>\n",
       "    <tr style=\"text-align: right;\">\n",
       "      <th></th>\n",
       "      <th>Unnamed: 0</th>\n",
       "      <th>level_0</th>\n",
       "      <th>index</th>\n",
       "      <th>date</th>\n",
       "      <th>year</th>\n",
       "      <th>month</th>\n",
       "      <th>day</th>\n",
       "      <th>countryCode</th>\n",
       "      <th>taxonID</th>\n",
       "      <th>scientificName</th>\n",
       "      <th>...</th>\n",
       "      <th>ImageUniqueID</th>\n",
       "      <th>Substrate</th>\n",
       "      <th>Latitude</th>\n",
       "      <th>Longitude</th>\n",
       "      <th>CoorUncert</th>\n",
       "      <th>Habitat</th>\n",
       "      <th>image_path</th>\n",
       "      <th>class_id</th>\n",
       "      <th>genus_id</th>\n",
       "      <th>family_id</th>\n",
       "    </tr>\n",
       "  </thead>\n",
       "  <tbody>\n",
       "    <tr>\n",
       "      <th>0</th>\n",
       "      <td>0</td>\n",
       "      <td>0</td>\n",
       "      <td>0</td>\n",
       "      <td>2020-09-17</td>\n",
       "      <td>2020.0</td>\n",
       "      <td>9.0</td>\n",
       "      <td>17.0</td>\n",
       "      <td>DK</td>\n",
       "      <td>17215.0</td>\n",
       "      <td>Mycena crocata (Schrad.) P.Kumm.</td>\n",
       "      <td>...</td>\n",
       "      <td>2862684394-136762</td>\n",
       "      <td>dead wood (including bark)</td>\n",
       "      <td>55.433810</td>\n",
       "      <td>10.200162</td>\n",
       "      <td>10.0</td>\n",
       "      <td>Unmanaged deciduous woodland</td>\n",
       "      <td>2862684394-136762.jpg</td>\n",
       "      <td>70</td>\n",
       "      <td>4</td>\n",
       "      <td>3</td>\n",
       "    </tr>\n",
       "    <tr>\n",
       "      <th>1</th>\n",
       "      <td>1</td>\n",
       "      <td>1</td>\n",
       "      <td>1</td>\n",
       "      <td>2017-08-16</td>\n",
       "      <td>2017.0</td>\n",
       "      <td>8.0</td>\n",
       "      <td>16.0</td>\n",
       "      <td>DK</td>\n",
       "      <td>10057.0</td>\n",
       "      <td>Agaricus augustus Fr.</td>\n",
       "      <td>...</td>\n",
       "      <td>2238502117-320693</td>\n",
       "      <td>soil</td>\n",
       "      <td>55.800171</td>\n",
       "      <td>12.478571</td>\n",
       "      <td>5.0</td>\n",
       "      <td>garden</td>\n",
       "      <td>2238502117-320693.jpg</td>\n",
       "      <td>1</td>\n",
       "      <td>0</td>\n",
       "      <td>0</td>\n",
       "    </tr>\n",
       "    <tr>\n",
       "      <th>2</th>\n",
       "      <td>2</td>\n",
       "      <td>2</td>\n",
       "      <td>2</td>\n",
       "      <td>2020-07-23</td>\n",
       "      <td>2020.0</td>\n",
       "      <td>7.0</td>\n",
       "      <td>23.0</td>\n",
       "      <td>DK</td>\n",
       "      <td>20027.0</td>\n",
       "      <td>Russula olivacea (Schaeff.) Fr.</td>\n",
       "      <td>...</td>\n",
       "      <td>2818074328-59948</td>\n",
       "      <td>soil</td>\n",
       "      <td>55.976322</td>\n",
       "      <td>12.293878</td>\n",
       "      <td>1.0</td>\n",
       "      <td>Mixed woodland (with coniferous and deciduous ...</td>\n",
       "      <td>2818074328-59948.jpg</td>\n",
       "      <td>151</td>\n",
       "      <td>5</td>\n",
       "      <td>4</td>\n",
       "    </tr>\n",
       "  </tbody>\n",
       "</table>\n",
       "<p>3 rows × 27 columns</p>\n",
       "</div>"
      ],
      "text/plain": [
       "   Unnamed: 0  level_0  index        date    year  month   day countryCode  \\\n",
       "0           0        0      0  2020-09-17  2020.0    9.0  17.0          DK   \n",
       "1           1        1      1  2017-08-16  2017.0    8.0  16.0          DK   \n",
       "2           2        2      2  2020-07-23  2020.0    7.0  23.0          DK   \n",
       "\n",
       "   taxonID                    scientificName  ...      ImageUniqueID  \\\n",
       "0  17215.0  Mycena crocata (Schrad.) P.Kumm.  ...  2862684394-136762   \n",
       "1  10057.0             Agaricus augustus Fr.  ...  2238502117-320693   \n",
       "2  20027.0   Russula olivacea (Schaeff.) Fr.  ...   2818074328-59948   \n",
       "\n",
       "                    Substrate   Latitude  Longitude CoorUncert  \\\n",
       "0  dead wood (including bark)  55.433810  10.200162       10.0   \n",
       "1                        soil  55.800171  12.478571        5.0   \n",
       "2                        soil  55.976322  12.293878        1.0   \n",
       "\n",
       "                                             Habitat             image_path  \\\n",
       "0                       Unmanaged deciduous woodland  2862684394-136762.jpg   \n",
       "1                                             garden  2238502117-320693.jpg   \n",
       "2  Mixed woodland (with coniferous and deciduous ...   2818074328-59948.jpg   \n",
       "\n",
       "  class_id genus_id  family_id  \n",
       "0       70        4          3  \n",
       "1        1        0          0  \n",
       "2      151        5          4  \n",
       "\n",
       "[3 rows x 27 columns]"
      ]
     },
     "execution_count": 76,
     "metadata": {},
     "output_type": "execute_result"
    }
   ],
   "source": [
    "clean_meta_df = pd.read_csv('Mush_Me/data/metadata/02_cleaned_metadata/v1/metadata_mini_train.csv')\n",
    "clean_meta_df.head(3)"
   ]
  },
  {
   "cell_type": "code",
   "execution_count": 77,
   "id": "062c4bb8",
   "metadata": {},
   "outputs": [
    {
     "data": {
      "text/plain": [
       "Index(['Unnamed: 0', 'level_0', 'index', 'date', 'year', 'month', 'day',\n",
       "       'countryCode', 'taxonID', 'scientificName', 'phylum', 'class', 'order',\n",
       "       'family', 'genus', 'specificEpithet', 'species', 'ImageUniqueID',\n",
       "       'Substrate', 'Latitude', 'Longitude', 'CoorUncert', 'Habitat',\n",
       "       'image_path', 'class_id', 'genus_id', 'family_id'],\n",
       "      dtype='object')"
      ]
     },
     "execution_count": 77,
     "metadata": {},
     "output_type": "execute_result"
    }
   ],
   "source": [
    "clean_meta_df.columns"
   ]
  },
  {
   "cell_type": "markdown",
   "id": "b7ff80c3",
   "metadata": {},
   "source": [
    "## Feature 'Substrate'"
   ]
  },
  {
   "cell_type": "code",
   "execution_count": 78,
   "id": "9b2d29a5",
   "metadata": {
    "scrolled": true
   },
   "outputs": [
    {
     "data": {
      "text/plain": [
       "soil                                23039\n",
       "dead wood (including bark)           2706\n",
       "leaf or needle litter                2554\n",
       "wood                                 1086\n",
       "bark of living trees                  344\n",
       "mosses                                326\n",
       "stems of herbs, grass etc             300\n",
       "bark                                  218\n",
       "wood and roots of living trees        165\n",
       "wood chips or mulch                   136\n",
       "dead stems of herbs, grass etc         95\n",
       "cones                                  79\n",
       "other substrate                        44\n",
       "peat mosses                            26\n",
       "living stems of herbs, grass etc       24\n",
       "fungi                                  18\n",
       "faeces                                 16\n",
       "fire spot                              12\n",
       "fruits                                  9\n",
       "catkins                                 8\n",
       "living leaves                           3\n",
       "building stone (e.g. bricks)            1\n",
       "liverworts                              1\n",
       "lichens                                 1\n",
       "Name: Substrate, dtype: int64"
      ]
     },
     "execution_count": 78,
     "metadata": {},
     "output_type": "execute_result"
    }
   ],
   "source": [
    "clean_meta_df['Substrate'].value_counts()"
   ]
  },
  {
   "cell_type": "code",
   "execution_count": 79,
   "id": "ab014307",
   "metadata": {},
   "outputs": [],
   "source": [
    "clean_meta_df['Substrate'] = clean_meta_df['Substrate'].map({'soil':'soil',\n",
    "                                                             'dead wood (including bark)':'dead wood',\n",
    "                                                             'leaf or needle litter':'leaves',\n",
    "                                                             'wood':'wood',\n",
    "                                                             'bark of living trees':'bark',\n",
    "                                                             'mosses':'mosses',\n",
    "                                                             'stems of herbs, grass etc':'stems of herbs, grass',\n",
    "                                                             'bark':'bark',\n",
    "                                                             'wood and roots of living trees':'wood and roots of living trees',\n",
    "                                                             'wood chips or mulch':'wood chips or mulch',\n",
    "                                                             'dead stems of herbs, grass etc':'stems of herbs, grass',\n",
    "                                                             'cones':'cones',\n",
    "                                                             'other substrate':'other substrate',\n",
    "                                                             'peat mosses':'peat mosses',\n",
    "                                                             'living stems of herbs, grass etc':'stems of herbs, grass',\n",
    "                                                             'fungi':'fungi',\n",
    "                                                             'faeces':'faeces',\n",
    "                                                             'fire spot':'fire spot',\n",
    "                                                             'fruits':'fruits',\n",
    "                                                             'catkins':'catkins',\n",
    "                                                             'living leaves':'leaves',\n",
    "                                                             'building stone (e.g. bricks)':'building stone (e.g. bricks)',\n",
    "                                                             'liverworts':'liverworts',\n",
    "                                                             'lichens':'lichens'})"
   ]
  },
  {
   "cell_type": "code",
   "execution_count": 80,
   "id": "69578db1",
   "metadata": {},
   "outputs": [
    {
     "data": {
      "text/plain": [
       "soil                              23039\n",
       "dead wood                          2706\n",
       "leaves                             2557\n",
       "wood                               1086\n",
       "bark                                562\n",
       "stems of herbs, grass               419\n",
       "mosses                              326\n",
       "wood and roots of living trees      165\n",
       "wood chips or mulch                 136\n",
       "cones                                79\n",
       "other substrate                      44\n",
       "peat mosses                          26\n",
       "fungi                                18\n",
       "faeces                               16\n",
       "fire spot                            12\n",
       "fruits                                9\n",
       "catkins                               8\n",
       "building stone (e.g. bricks)          1\n",
       "liverworts                            1\n",
       "lichens                               1\n",
       "Name: Substrate, dtype: int64"
      ]
     },
     "execution_count": 80,
     "metadata": {},
     "output_type": "execute_result"
    }
   ],
   "source": [
    "clean_meta_df['Substrate'].value_counts()"
   ]
  },
  {
   "cell_type": "markdown",
   "id": "143d09e0",
   "metadata": {},
   "source": [
    "## Feature 'Habitat'"
   ]
  },
  {
   "cell_type": "code",
   "execution_count": 81,
   "id": "02c94fa0",
   "metadata": {
    "scrolled": true
   },
   "outputs": [
    {
     "data": {
      "text/plain": [
       "Deciduous woodland                                      7953\n",
       "Mixed woodland (with coniferous and deciduous trees)    5372\n",
       "coniferous woodland/plantation                          4419\n",
       "Unmanaged deciduous woodland                            3328\n",
       "park/churchyard                                         2281\n",
       "Unmanaged coniferous woodland                           1085\n",
       "natural grassland                                       1063\n",
       "lawn                                                     890\n",
       "roadside                                                 779\n",
       "Thorny scrubland                                         689\n",
       "garden                                                   651\n",
       "Bog woodland                                             349\n",
       "Forest bog                                               330\n",
       "hedgerow                                                 264\n",
       "wooded meadow, grazing forest                            244\n",
       "dune                                                     243\n",
       "heath                                                    205\n",
       "Willow scrubland                                         201\n",
       "bog                                                      187\n",
       "salt meadow                                              148\n",
       "Acidic oak woodland                                      135\n",
       "other habitat                                            124\n",
       "meadow                                                   104\n",
       "gravel or clay pit                                        62\n",
       "improved grassland                                        48\n",
       "roof                                                      20\n",
       "ditch                                                     19\n",
       "fallow field                                              15\n",
       "fertilized field in rotation                               2\n",
       "rock                                                       1\n",
       "Name: Habitat, dtype: int64"
      ]
     },
     "execution_count": 81,
     "metadata": {},
     "output_type": "execute_result"
    }
   ],
   "source": [
    "clean_meta_df['Habitat'].value_counts()"
   ]
  },
  {
   "cell_type": "code",
   "execution_count": 82,
   "id": "bb7d7483",
   "metadata": {},
   "outputs": [],
   "source": [
    "clean_meta_df['Habitat'] = clean_meta_df['Habitat'].map({'Deciduous woodland':'deciduous woodland',\n",
    "                                                         'Mixed woodland (with coniferous and deciduous trees)':'mixed woodland (coniferous and deciduous trees)',\n",
    "                                                         'coniferous woodland/plantation':'coniferous woodland',\n",
    "                                                         'Unmanaged deciduous woodland':'deciduous woodland',\n",
    "                                                         'park/churchyard':'park',\n",
    "                                                         'Unmanaged coniferous woodland':'coniferous woodland',\n",
    "                                                         'natural grassland':'grassland',\n",
    "                                                         'lawn':'lawn',\n",
    "                                                         'roadside':'roadside',\n",
    "                                                         'Thorny scrubland':'thorny scrubland',\n",
    "                                                         'garden':'garden',\n",
    "                                                         'Bog woodland':'wetland',\n",
    "                                                         'Forest bog':'wetland',\n",
    "                                                         'hedgerow':'hedgerow',\n",
    "                                                         'wooded meadow, grazing forest':'wooded meadow',\n",
    "                                                         'dune':'dune',\n",
    "                                                         'heath':'uncultivated land',\n",
    "                                                         'Willow scrubland':'willow scrubland',\n",
    "                                                         'bog':'wetland',\n",
    "                                                         'salt meadow':'salt meadow',\n",
    "                                                         'Acidic oak woodland':'acidic oak woodland',\n",
    "                                                         'other habitat':'other habitat',\n",
    "                                                         'meadow':'meadow',\n",
    "                                                         'gravel or clay pit':'gravel',\n",
    "                                                         'improved grassland':'grassland',\n",
    "                                                         'roof':'roof',\n",
    "                                                         'ditch':'ditch',\n",
    "                                                         'fallow field':'fallow land',\n",
    "                                                         'fertilized field in rotation':'cultivated land',\n",
    "                                                         'rock':'rock'})"
   ]
  },
  {
   "cell_type": "code",
   "execution_count": 83,
   "id": "9511d3e9",
   "metadata": {},
   "outputs": [
    {
     "data": {
      "text/plain": [
       "deciduous woodland                                 11281\n",
       "coniferous woodland                                 5504\n",
       "mixed woodland (coniferous and deciduous trees)     5372\n",
       "park                                                2281\n",
       "grassland                                           1111\n",
       "lawn                                                 890\n",
       "wetland                                              866\n",
       "roadside                                             779\n",
       "thorny scrubland                                     689\n",
       "garden                                               651\n",
       "hedgerow                                             264\n",
       "wooded meadow                                        244\n",
       "dune                                                 243\n",
       "uncultivated land                                    205\n",
       "willow scrubland                                     201\n",
       "salt meadow                                          148\n",
       "acidic oak woodland                                  135\n",
       "other habitat                                        124\n",
       "meadow                                               104\n",
       "gravel                                                62\n",
       "roof                                                  20\n",
       "ditch                                                 19\n",
       "fallow land                                           15\n",
       "cultivated land                                        2\n",
       "rock                                                   1\n",
       "Name: Habitat, dtype: int64"
      ]
     },
     "execution_count": 83,
     "metadata": {},
     "output_type": "execute_result"
    }
   ],
   "source": [
    "clean_meta_df['Habitat'].value_counts()"
   ]
  }
 ],
 "metadata": {
  "kernelspec": {
   "display_name": "Python 3",
   "language": "python",
   "name": "python3"
  },
  "language_info": {
   "codemirror_mode": {
    "name": "ipython",
    "version": 3
   },
   "file_extension": ".py",
   "mimetype": "text/x-python",
   "name": "python",
   "nbconvert_exporter": "python",
   "pygments_lexer": "ipython3",
   "version": "3.8.6"
  },
  "toc": {
   "base_numbering": 1,
   "nav_menu": {},
   "number_sections": true,
   "sideBar": true,
   "skip_h1_title": false,
   "title_cell": "Table of Contents",
   "title_sidebar": "Contents",
   "toc_cell": false,
   "toc_position": {},
   "toc_section_display": true,
   "toc_window_display": false
  }
 },
 "nbformat": 4,
 "nbformat_minor": 5
}
