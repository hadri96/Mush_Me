{
 "cells": [
  {
   "cell_type": "markdown",
   "id": "0e46662d",
   "metadata": {},
   "source": [
    "# How to GCP"
   ]
  },
  {
   "cell_type": "markdown",
   "id": "5abd2589",
   "metadata": {},
   "source": [
    "⚠️ IMPORTANT: Bucket names must be globally unique since they are accessible worldwide. Please respect the naming convention wagon-data-[BATCH_NUMBER]-[YOUR_LAST_NAME]\n",
    "\n",
    "In the same way as the PROJECT_ID is used in your code in order to identify your project, the BUCKET_NAME is used in your code in order to identify an online storage location where you store your data and your models."
   ]
  },
  {
   "cell_type": "markdown",
   "id": "ce4deab1",
   "metadata": {},
   "source": [
    "## First download csv file"
   ]
  },
  {
   "cell_type": "code",
   "execution_count": 3,
   "id": "d559d2c7",
   "metadata": {},
   "outputs": [],
   "source": [
    "# curl --silent '{url}.csv' > ~/code/camillernoult/TaxiFareModel/raw_data/train_1k.csv {your path}"
   ]
  },
  {
   "cell_type": "markdown",
   "id": "5ba013c9",
   "metadata": {},
   "source": [
    "## Create the bucket"
   ]
  },
  {
   "cell_type": "markdown",
   "id": "07abbe93",
   "metadata": {},
   "source": [
    "Open Makefile in Model project and copy the following lines\n",
    "\n",
    "DONT FORGET: replace spaces with tabs!"
   ]
  },
  {
   "cell_type": "raw",
   "id": "66fcd407",
   "metadata": {},
   "source": [
    "# project id - replace with your GCP project id\n",
    "PROJECT_ID=XXX\n",
    "\n",
    "# bucket name - replace with your GCP bucket name\n",
    "BUCKET_NAME=XXX\n",
    "\n",
    "# choose your region from https://cloud.google.com/storage/docs/locations#available_locations\n",
    "REGION=europe-west1\n",
    "\n",
    "set_project:\n",
    "    @gcloud config set project ${PROJECT_ID}\n",
    "\n",
    "create_bucket:\n",
    "    @gsutil mb -l ${REGION} -p ${PROJECT_ID} gs://${BUCKET_NAME}"
   ]
  },
  {
   "cell_type": "raw",
   "id": "26457491",
   "metadata": {},
   "source": [
    "make set_project\n",
    "make create_bucket"
   ]
  },
  {
   "cell_type": "markdown",
   "id": "a3e464c3",
   "metadata": {},
   "source": [
    "CHECK THAT IT IS DONE IN YOUR GCP STORAGE :)"
   ]
  },
  {
   "cell_type": "code",
   "execution_count": null,
   "id": "64728af9",
   "metadata": {},
   "outputs": [],
   "source": []
  }
 ],
 "metadata": {
  "kernelspec": {
   "display_name": "Python 3",
   "language": "python",
   "name": "python3"
  },
  "language_info": {
   "codemirror_mode": {
    "name": "ipython",
    "version": 3
   },
   "file_extension": ".py",
   "mimetype": "text/x-python",
   "name": "python",
   "nbconvert_exporter": "python",
   "pygments_lexer": "ipython3",
   "version": "3.8.6"
  },
  "toc": {
   "base_numbering": 1,
   "nav_menu": {},
   "number_sections": true,
   "sideBar": true,
   "skip_h1_title": false,
   "title_cell": "Table of Contents",
   "title_sidebar": "Contents",
   "toc_cell": false,
   "toc_position": {},
   "toc_section_display": true,
   "toc_window_display": false
  }
 },
 "nbformat": 4,
 "nbformat_minor": 5
}
